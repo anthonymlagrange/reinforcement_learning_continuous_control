{
 "cells": [
  {
   "cell_type": "markdown",
   "metadata": {},
   "source": [
    "# TRAIN\n",
    "# Project 2: Continuous Control\n",
    "## Udacity Deep Reinforcement Learning Nanodegree"
   ]
  },
  {
   "cell_type": "markdown",
   "metadata": {},
   "source": [
    "### Preliminaries"
   ]
  },
  {
   "cell_type": "markdown",
   "metadata": {},
   "source": [
    "Import required dependencies:"
   ]
  },
  {
   "cell_type": "code",
   "execution_count": 1,
   "metadata": {},
   "outputs": [
    {
     "name": "stderr",
     "output_type": "stream",
     "text": [
      "/home/ubuntu/anaconda3/envs/pytorch_p36/lib/python3.6/site-packages/matplotlib/__init__.py:1067: UserWarning: Duplicate key in file \"/home/ubuntu/.config/matplotlib/matplotlibrc\", line #2\n",
      "  (fname, cnt))\n",
      "/home/ubuntu/anaconda3/envs/pytorch_p36/lib/python3.6/site-packages/matplotlib/__init__.py:1067: UserWarning: Duplicate key in file \"/home/ubuntu/.config/matplotlib/matplotlibrc\", line #3\n",
      "  (fname, cnt))\n"
     ]
    }
   ],
   "source": [
    "from agent_controller import AgentController\n",
    "from collections import deque\n",
    "# import cProfile\n",
    "import matplotlib.pyplot as plt\n",
    "import numpy as np\n",
    "import time\n",
    "import torch\n",
    "from trajectory_collector import TrajectoryCollector\n",
    "from unityagents import UnityEnvironment"
   ]
  },
  {
   "cell_type": "code",
   "execution_count": 2,
   "metadata": {},
   "outputs": [],
   "source": [
    "plt.rcParams['figure.figsize'] = (12, 8)"
   ]
  },
  {
   "cell_type": "markdown",
   "metadata": {},
   "source": [
    "## The environment"
   ]
  },
  {
   "cell_type": "markdown",
   "metadata": {},
   "source": [
    "Choose between a single agent and twenty independent agents for training."
   ]
  },
  {
   "cell_type": "code",
   "execution_count": 3,
   "metadata": {},
   "outputs": [],
   "source": [
    "#mode = 'single'\n",
    "mode = 'multiple'"
   ]
  },
  {
   "cell_type": "markdown",
   "metadata": {},
   "source": [
    "Define the environment and obtain aspects of it."
   ]
  },
  {
   "cell_type": "code",
   "execution_count": 4,
   "metadata": {},
   "outputs": [],
   "source": [
    "environment_path = '../v1/Reacher_Linux_NoVis/Reacher.x86_64' if mode == 'single' else '../v2/Reacher_Linux_NoVis/Reacher.x86_64'"
   ]
  },
  {
   "cell_type": "code",
   "execution_count": 5,
   "metadata": {},
   "outputs": [
    {
     "name": "stderr",
     "output_type": "stream",
     "text": [
      "INFO:unityagents:\n",
      "'Academy' started successfully!\n",
      "Unity Academy name: Academy\n",
      "        Number of Brains: 1\n",
      "        Number of External Brains : 1\n",
      "        Lesson number : 0\n",
      "        Reset Parameters :\n",
      "\t\tgoal_speed -> 1.0\n",
      "\t\tgoal_size -> 5.0\n",
      "Unity brain name: ReacherBrain\n",
      "        Number of Visual Observations (per agent): 0\n",
      "        Vector Observation space type: continuous\n",
      "        Vector Observation space size (per agent): 33\n",
      "        Number of stacked Vector Observation: 1\n",
      "        Vector Action space type: continuous\n",
      "        Vector Action space size (per agent): 4\n",
      "        Vector Action descriptions: , , , \n"
     ]
    }
   ],
   "source": [
    "env = UnityEnvironment(file_name=environment_path)"
   ]
  },
  {
   "cell_type": "code",
   "execution_count": 6,
   "metadata": {},
   "outputs": [],
   "source": [
    "brain_name = env.brain_names[0]\n",
    "brain = env.brains[brain_name]\n",
    "\n",
    "env_info = env.reset(train_mode=True)[brain_name]\n",
    "agents_n = len(env_info.agents)\n",
    "action_size = brain.vector_action_space_size\n",
    "states = env_info.vector_observations\n",
    "state_size = states.shape[1]\n",
    "\n",
    "del env_info"
   ]
  },
  {
   "cell_type": "markdown",
   "metadata": {},
   "source": [
    "## The agent controllers"
   ]
  },
  {
   "cell_type": "markdown",
   "metadata": {},
   "source": [
    "Define a **first** agent controller that serves as a baseline."
   ]
  },
  {
   "cell_type": "code",
   "execution_count": 7,
   "metadata": {},
   "outputs": [],
   "source": [
    "agent_controller_1 = AgentController(\n",
    "    agents_n=agents_n,\n",
    "\n",
    "    frames_n=1,    \n",
    "    state_size=state_size,\n",
    "    action_size=action_size,\n",
    "    \n",
    "    action_distribution=\"normal\",\n",
    "    hidden_layer_size=128,\n",
    "        \n",
    "    sgd_epochs=16,\n",
    "    minibatch_size=4096,\n",
    "    sgd_inner_iterations=1,\n",
    "    \n",
    "    gamma=0.99,\n",
    "    gae_lambda=0.95,\n",
    "                 \n",
    "    epsilon_start=0.2,\n",
    "    epsilon_update_factor=1,\n",
    "\n",
    "    objective_weight_critic_start=0.5,\n",
    "    objective_weight_critic_update_factor=1,\n",
    "    \n",
    "    objective_weight_entropy_start=0,\n",
    "    objective_weight_entropy_update_factor=1,\n",
    "        \n",
    "    learning_rate=3e-4,\n",
    "    learning_eps=1e-5,\n",
    "    \n",
    "    gradient_clip=5\n",
    ")  "
   ]
  },
  {
   "cell_type": "markdown",
   "metadata": {},
   "source": [
    "Define a **second** agent controller that is similar to the first, but that uses a Beta distribution instead of a Normal distribution to generate actions. _(Note: The hyperparameters of this agent controller have not otherwise been specifically tuned.)_"
   ]
  },
  {
   "cell_type": "code",
   "execution_count": 8,
   "metadata": {},
   "outputs": [],
   "source": [
    "agent_controller_2 = AgentController(\n",
    "    agents_n=agents_n,\n",
    "\n",
    "    frames_n=1,    \n",
    "    state_size=state_size,\n",
    "    action_size=action_size,\n",
    "    \n",
    "    action_distribution=\"beta\",\n",
    "    hidden_layer_size=128,\n",
    "        \n",
    "    sgd_epochs=16,\n",
    "    minibatch_size=4096,\n",
    "    sgd_inner_iterations=1,\n",
    "    \n",
    "    gamma=0.99,\n",
    "    gae_lambda=0.95,\n",
    "                 \n",
    "    epsilon_start=0.2,\n",
    "    epsilon_update_factor=1,\n",
    "\n",
    "    objective_weight_critic_start=0.5,\n",
    "    objective_weight_critic_update_factor=1,\n",
    "    \n",
    "    objective_weight_entropy_start=0.001,\n",
    "    objective_weight_entropy_update_factor=1,\n",
    "        \n",
    "    learning_rate=3e-4,\n",
    "    learning_eps=1e-5,\n",
    "    \n",
    "    gradient_clip=5\n",
    ")  "
   ]
  },
  {
   "cell_type": "markdown",
   "metadata": {},
   "source": [
    "Define a **third** agent controller that is similar to the first, but that considers two consecutive frames at a time instead of only a single frame. _(Note: The hyperparameters of this agent controller have not otherwise been specifically tuned.)_"
   ]
  },
  {
   "cell_type": "code",
   "execution_count": 9,
   "metadata": {},
   "outputs": [],
   "source": [
    "agent_controller_3 = AgentController(\n",
    "    agents_n=agents_n,\n",
    "\n",
    "    frames_n=2,    \n",
    "    state_size=state_size,\n",
    "    action_size=action_size,\n",
    "    \n",
    "    action_distribution=\"normal\",\n",
    "    hidden_layer_size=256,\n",
    "        \n",
    "    sgd_epochs=16,\n",
    "    minibatch_size=4096,\n",
    "    sgd_inner_iterations=1,\n",
    "    \n",
    "    gamma=0.99,\n",
    "    gae_lambda=0.95,\n",
    "                 \n",
    "    epsilon_start=0.2,\n",
    "    epsilon_update_factor=1,\n",
    "\n",
    "    objective_weight_critic_start=0.5,\n",
    "    objective_weight_critic_update_factor=1,\n",
    "    \n",
    "    objective_weight_entropy_start=0,\n",
    "    objective_weight_entropy_update_factor=1,\n",
    "        \n",
    "    learning_rate=3e-4,\n",
    "    learning_eps=1e-5,\n",
    "    \n",
    "    gradient_clip=5\n",
    ")  "
   ]
  },
  {
   "cell_type": "markdown",
   "metadata": {},
   "source": [
    "## The environment-agent interaction"
   ]
  },
  {
   "cell_type": "markdown",
   "metadata": {},
   "source": [
    "Define the success criteria."
   ]
  },
  {
   "cell_type": "code",
   "execution_count": 10,
   "metadata": {},
   "outputs": [],
   "source": [
    "SOLVED_SCORE = 30\n",
    "WINDOW_SIZE = 100"
   ]
  },
  {
   "cell_type": "markdown",
   "metadata": {},
   "source": [
    "Wrap the code that performs training over opisodes:"
   ]
  },
  {
   "cell_type": "code",
   "execution_count": null,
   "metadata": {},
   "outputs": [],
   "source": [
    "VERBOSE = True"
   ]
  },
  {
   "cell_type": "code",
   "execution_count": 1,
   "metadata": {},
   "outputs": [],
   "source": [
    "def run(agent_controller, checkpoint_name=None):\n",
    "    \"\"\"Drives the interaction between the environment and the agent controller.\n",
    "\n",
    "    Params\n",
    "    ======\n",
    "        agent_controller: The agent controller to train.\n",
    "        checkpoint_name: If a solution is reached, the network weights are stored in a file named after this parameter.\n",
    "        \n",
    "    Returns\n",
    "    =======\n",
    "        scores: The list of scores achieved at every episode. The score for an episode is defined as the mean score achieved by all agents. An agent's score for an episode is defined as the undiscounted some of rewards for that agent in that episode.\n",
    "        rolling_mean: A list of rolling means scores over a window of size \"WINDOW_SIZE\".\n",
    "        rolling_std: A list of rolling standard deviation scores over a window of size \"WINDOW_SIZE\".\n",
    "    \"\"\"\n",
    "\n",
    "    verbose_regularity = 10\n",
    "\n",
    "    max_episodes = 1000\n",
    "\n",
    "    scores = []\n",
    "    scores_window = deque(maxlen=WINDOW_SIZE)    \n",
    "    rolling_scores_mean = []    \n",
    "    rolling_scores_std = []    \n",
    "    timer_window = deque(maxlen=WINDOW_SIZE)\n",
    "\n",
    "    max_steps = 1001 * 1  # Note: It turns out that the Reacher environment always stops after 1001 steps.\n",
    "\n",
    "    trajectory_collector = TrajectoryCollector(env=env, brain_name=brain_name, agent_controller=agent_controller)\n",
    "\n",
    "    def get_output_string():\n",
    "        \"\"\"A convenience function that returns a string sumarizing the agent controller's performance over the window.\n",
    "        \"\"\"\n",
    "        return f'Episode {i + 1}: score: {latest_score:.4f}; mean_score: {mean_score_in_window:.4f}; std_score: {std_score_in_window:.4f}; avg_time: {np.mean(timer_window):.2f}'\n",
    "\n",
    "    #####\n",
    "\n",
    "    for i in range(max_episodes):\n",
    "\n",
    "        timer_start = time.process_time()\n",
    "\n",
    "        trajectory_collector.reset_environment()\n",
    "        trajectories = trajectory_collector.generate(steps_n=max_steps)\n",
    "        agent_controller.train(trajectories)        \n",
    "\n",
    "        latest_score = np.mean(torch.sum(trajectories['rewards'], dim=1).cpu().numpy())\n",
    "        scores.append(latest_score)        \n",
    "        scores_window.append(latest_score)\n",
    "\n",
    "        mean_score_in_window = np.mean(scores_window)\n",
    "        std_score_in_window = np.std(scores_window)\n",
    "\n",
    "        rolling_scores_mean.append(mean_score_in_window)\n",
    "        rolling_scores_std.append(std_score_in_window)    \n",
    "\n",
    "        timer_window.append(time.process_time() - timer_start)\n",
    "\n",
    "        if VERBOSE and (i + 1) % verbose_regularity == 0:\n",
    "            print(get_output_string())\n",
    "\n",
    "        if i >= WINDOW_SIZE - 1 and mean_score_in_window >= SOLVED_SCORE:\n",
    "            if VERBOSE:\n",
    "                print(f'Solved! Number of episodes required: {i - WINDOW_SIZE + 2} to {i + 1}.')\n",
    "\n",
    "            if checkpoint_name:\n",
    "                agent_controller.save(path=f'checkpoint_{checkpoint_name}.pth')\n",
    "\n",
    "            break\n",
    "            \n",
    "    return {\n",
    "        'scores': scores, \n",
    "        'rolling_mean': rolling_scores_mean, \n",
    "        'rolling_std': rolling_scores_std \n",
    "    }"
   ]
  },
  {
   "cell_type": "markdown",
   "metadata": {},
   "source": [
    "## Training the agent controllers"
   ]
  },
  {
   "cell_type": "code",
   "execution_count": 12,
   "metadata": {},
   "outputs": [
    {
     "name": "stdout",
     "output_type": "stream",
     "text": [
      "Episode 10: score: 1.7360; mean_score: 0.7176; std_score: 0.4710; avg_time: 3.96\n",
      "Episode 20: score: 4.3175; mean_score: 1.7808; std_score: 1.2323; avg_time: 3.96\n",
      "Episode 30: score: 11.8100; mean_score: 4.0014; std_score: 3.5664; avg_time: 3.97\n",
      "Episode 40: score: 23.7690; mean_score: 7.9643; std_score: 7.6832; avg_time: 3.96\n",
      "Episode 50: score: 31.0860; mean_score: 11.9828; std_score: 10.6309; avg_time: 3.95\n",
      "Episode 60: score: 34.5720; mean_score: 15.5523; std_score: 12.5756; avg_time: 3.94\n",
      "Episode 70: score: 36.9420; mean_score: 18.5065; std_score: 13.7099; avg_time: 3.94\n",
      "Episode 80: score: 38.2600; mean_score: 20.9101; std_score: 14.3150; avg_time: 3.94\n",
      "Episode 90: score: 38.0100; mean_score: 22.7950; std_score: 14.5116; avg_time: 3.94\n",
      "Episode 100: score: 37.8665; mean_score: 24.3376; std_score: 14.5242; avg_time: 3.93\n",
      "Episode 110: score: 38.0465; mean_score: 28.0826; std_score: 12.6588; avg_time: 3.93\n",
      "Solved! Number of episodes required: 17 to 116.\n"
     ]
    }
   ],
   "source": [
    "sc_1 = run(agent_controller_1, \"agent_controller_1\")"
   ]
  },
  {
   "cell_type": "code",
   "execution_count": 13,
   "metadata": {},
   "outputs": [
    {
     "name": "stdout",
     "output_type": "stream",
     "text": [
      "Episode 10: score: 0.8360; mean_score: 0.3400; std_score: 0.2250; avg_time: 4.86\n",
      "Episode 20: score: 1.9480; mean_score: 0.8274; std_score: 0.5655; avg_time: 4.86\n",
      "Episode 30: score: 3.2685; mean_score: 1.4627; std_score: 1.0340; avg_time: 4.86\n",
      "Episode 40: score: 7.2105; mean_score: 2.4035; std_score: 1.9364; avg_time: 4.86\n",
      "Episode 50: score: 10.5625; mean_score: 3.7288; std_score: 3.2010; avg_time: 4.86\n",
      "Episode 60: score: 17.7760; mean_score: 5.5261; std_score: 5.0369; avg_time: 4.87\n",
      "Episode 70: score: 28.2515; mean_score: 8.0940; std_score: 7.9181; avg_time: 4.87\n",
      "Episode 80: score: 36.6865; mean_score: 11.1477; std_score: 10.9981; avg_time: 4.87\n",
      "Episode 90: score: 37.0170; mean_score: 13.9927; std_score: 13.1275; avg_time: 4.87\n",
      "Episode 100: score: 37.4045; mean_score: 16.3323; std_score: 14.2962; avg_time: 4.87\n",
      "Episode 110: score: 37.0305; mean_score: 20.0813; std_score: 14.5252; avg_time: 4.87\n",
      "Episode 120: score: 38.0720; mean_score: 23.7528; std_score: 13.9462; avg_time: 4.87\n",
      "Episode 130: score: 38.1235; mean_score: 27.2773; std_score: 12.5749; avg_time: 4.87\n",
      "Solved! Number of episodes required: 40 to 139.\n"
     ]
    }
   ],
   "source": [
    "sc_2 = run(agent_controller_2, \"agent_controller_2\")"
   ]
  },
  {
   "cell_type": "code",
   "execution_count": 14,
   "metadata": {},
   "outputs": [
    {
     "name": "stdout",
     "output_type": "stream",
     "text": [
      "Episode 10: score: 1.2130; mean_score: 0.3543; std_score: 0.3389; avg_time: 3.98\n",
      "Episode 20: score: 3.2955; mean_score: 1.3098; std_score: 1.1485; avg_time: 3.98\n",
      "Episode 30: score: 8.6725; mean_score: 2.7238; std_score: 2.3823; avg_time: 3.97\n",
      "Episode 40: score: 17.6270; mean_score: 5.4258; std_score: 5.3421; avg_time: 3.97\n",
      "Episode 50: score: 26.0410; mean_score: 9.0383; std_score: 8.7123; avg_time: 3.97\n",
      "Episode 60: score: 31.2905; mean_score: 12.3474; std_score: 10.8832; avg_time: 3.97\n",
      "Episode 70: score: 33.1630; mean_score: 15.1006; std_score: 12.1272; avg_time: 3.97\n",
      "Episode 80: score: 32.7665; mean_score: 17.3073; std_score: 12.7597; avg_time: 3.97\n",
      "Episode 90: score: 33.3405; mean_score: 19.0757; std_score: 13.0291; avg_time: 3.97\n",
      "Episode 100: score: 32.8760; mean_score: 20.5101; std_score: 13.0898; avg_time: 3.97\n",
      "Episode 110: score: 34.1665; mean_score: 23.8856; std_score: 11.7396; avg_time: 3.97\n",
      "Episode 120: score: 35.4625; mean_score: 27.1734; std_score: 9.6384; avg_time: 3.97\n",
      "Episode 130: score: 36.1530; mean_score: 30.2075; std_score: 6.6574; avg_time: 3.97\n",
      "Solved! Number of episodes required: 31 to 130.\n"
     ]
    }
   ],
   "source": [
    "sc_3 = run(agent_controller_3, \"agent_controller_3\")"
   ]
  },
  {
   "cell_type": "markdown",
   "metadata": {},
   "source": [
    "#### Remarks\n",
    "\n",
    "All three agent controllers are successfully able to solve the task (each in fact having been trained from the independent interactions of twenty agents, as set out at the top of this notebook). \n",
    "\n",
    "For the single runs shown here, the baseline agent controller, Agent Controller 1, has performed better than Agent Controllers 2 and 3. However, for a fair comparison, multiple repetitions of the runs above need to be performed, followed by a statistical test. In addition, as mentioned earlier, the hyperparameters of Agent Controllers 2 and 3 have not otherwise been tuned here. Nevertheless, as described in the report, Agent Controllers 2 and 3 each introduce an aspect that may be useful in general settings, if not specifically for solving this project."
   ]
  },
  {
   "cell_type": "markdown",
   "metadata": {},
   "source": [
    "## Visualized"
   ]
  },
  {
   "cell_type": "code",
   "execution_count": 15,
   "metadata": {},
   "outputs": [],
   "source": [
    "def visualise_single_training(scores, title):\n",
    "    \"\"\"Visualizes a single training of an agent controller. Specifically, the raw scores per epsiode are displayed, as well as\n",
    "    the rolling mean of scores over a window of episodes.\n",
    "    \"\"\"\n",
    "    plt.plot(scores['scores'], color='gray', label='Episode')\n",
    "    plt.plot(scores['rolling_mean'], color='blue', label='Rolling mean')\n",
    "        \n",
    "    plt.title(title)\n",
    "    plt.ylabel('score')\n",
    "    plt.xlabel('episode')\n",
    "    plt.xlim(left=0)\n",
    "    plt.xlim(right=400)    \n",
    "    plt.axhline(y=SOLVED_SCORE, color='red', linestyle='-')\n",
    "    plt.axvline(x=WINDOW_SIZE, color='gray', linestyle='--')\n",
    "    plt.axvline(x=len(scores) - WINDOW_SIZE, color='red', linestyle='-')\n",
    "    \n",
    "    plt.legend(loc='upper left')\n",
    "    \n",
    "    plt.show()   "
   ]
  },
  {
   "cell_type": "code",
   "execution_count": 16,
   "metadata": {},
   "outputs": [
    {
     "data": {
      "image/png": "[encoded data removed]",
      "text/plain": [
       "<Figure size 864x576 with 1 Axes>"
      ]
     },
     "metadata": {},
     "output_type": "display_data"
    }
   ],
   "source": [
    "visualise_single_training(sc_1, 'Agent Controller 1 - Baseline')"
   ]
  },
  {
   "cell_type": "code",
   "execution_count": 17,
   "metadata": {},
   "outputs": [
    {
     "data": {
      "image/png": "[encoded data removed]",
      "text/plain": [
       "<Figure size 864x576 with 1 Axes>"
      ]
     },
     "metadata": {},
     "output_type": "display_data"
    }
   ],
   "source": [
    "visualise_single_training(sc_2, 'Agent Controller 2 - Beta distribution')"
   ]
  },
  {
   "cell_type": "code",
   "execution_count": 18,
   "metadata": {},
   "outputs": [
    {
     "data": {
      "image/png": "[encoded data removed]",
      "text/plain": [
       "<Figure size 864x576 with 1 Axes>"
      ]
     },
     "metadata": {},
     "output_type": "display_data"
    }
   ],
   "source": [
    "visualise_single_training(sc_3, 'Agent Controller 3 - Two frames')"
   ]
  }
 ],
 "metadata": {
  "kernelspec": {
   "display_name": "Python [conda env:pytorch_p36]",
   "language": "python",
   "name": "conda-env-pytorch_p36-py"
  },
  "language_info": {
   "codemirror_mode": {
    "name": "ipython",
    "version": 3
   },
   "file_extension": ".py",
   "mimetype": "text/x-python",
   "name": "python",
   "nbconvert_exporter": "python",
   "pygments_lexer": "ipython3",
   "version": "3.6.5"
  }
 },
 "nbformat": 4,
 "nbformat_minor": 2
}
